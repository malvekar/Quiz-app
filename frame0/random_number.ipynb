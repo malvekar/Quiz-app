{
 "cells": [
  {
   "cell_type": "code",
   "execution_count": 1,
   "metadata": {},
   "outputs": [
    {
     "ename": "KeyboardInterrupt",
     "evalue": "",
     "output_type": "error",
     "traceback": [
      "\u001b[0;31m---------------------------------------------------------------------------\u001b[0m",
      "\u001b[0;31mKeyboardInterrupt\u001b[0m                         Traceback (most recent call last)",
      "Cell \u001b[0;32mIn [1], line 15\u001b[0m\n\u001b[1;32m     11\u001b[0m     \u001b[39mreturn\u001b[39;00m N\n\u001b[1;32m     14\u001b[0m \u001b[39mwhile\u001b[39;00m \u001b[39mlen\u001b[39m(\u001b[39mlist\u001b[39m) \u001b[39m!=\u001b[39m \u001b[39m20\u001b[39m:\n\u001b[0;32m---> 15\u001b[0m     pick()\n\u001b[1;32m     17\u001b[0m \u001b[39mprint\u001b[39m(\u001b[39mlist\u001b[39m)\n",
      "Cell \u001b[0;32mIn [1], line 7\u001b[0m, in \u001b[0;36mpick\u001b[0;34m()\u001b[0m\n\u001b[1;32m      5\u001b[0m flag \u001b[39m=\u001b[39m \u001b[39mTrue\u001b[39;00m\n\u001b[1;32m      6\u001b[0m \u001b[39mwhile\u001b[39;00m flag:\n\u001b[0;32m----> 7\u001b[0m     N \u001b[39m=\u001b[39m randint(\u001b[39m1\u001b[39;49m, \u001b[39m20\u001b[39;49m)\n\u001b[1;32m      8\u001b[0m     \u001b[39mif\u001b[39;00m N \u001b[39mnot\u001b[39;00m \u001b[39min\u001b[39;00m \u001b[39mlist\u001b[39m:\n\u001b[1;32m      9\u001b[0m         \u001b[39mlist\u001b[39m\u001b[39m.\u001b[39mappend(N)\n",
      "\u001b[0;31mKeyboardInterrupt\u001b[0m: "
     ]
    }
   ],
   "source": [
    "from numpy.random import randint\n",
    "list = []\n",
    "def pick():\n",
    "    global list\n",
    "    flag = True\n",
    "    while flag:\n",
    "        N = randint(1, 20)\n",
    "        if N not in list:\n",
    "            list.append(N)\n",
    "            flag = False\n",
    "    return N\n",
    "\n",
    "\n",
    "while len(list) != 20:\n",
    "    pick()\n",
    "\n",
    "print(list)"
   ]
  },
  {
   "cell_type": "code",
   "execution_count": 15,
   "metadata": {},
   "outputs": [
    {
     "name": "stdout",
     "output_type": "stream",
     "text": [
      "[20, 2, 9, 8, 7, 10, 18, 11, 14, 16, 19, 17, 5, 1, 15, 13, 4, 3, 6, 12]\n"
     ]
    }
   ],
   "source": [
    "from random import randint\n",
    "list = []\n",
    "def pick():\n",
    "    global list\n",
    "    flag = True\n",
    "    while flag:\n",
    "        N = randint(1, 20)\n",
    "        if N not in list:\n",
    "            list.append(N)\n",
    "            flag = False\n",
    "    return N\n",
    "\n",
    "\n",
    "while len(list) != 20:\n",
    "    pick()\n",
    "\n",
    "print(list)"
   ]
  }
 ],
 "metadata": {
  "kernelspec": {
   "display_name": "Python 3.10.6 64-bit",
   "language": "python",
   "name": "python3"
  },
  "language_info": {
   "codemirror_mode": {
    "name": "ipython",
    "version": 3
   },
   "file_extension": ".py",
   "mimetype": "text/x-python",
   "name": "python",
   "nbconvert_exporter": "python",
   "pygments_lexer": "ipython3",
   "version": "3.10.6"
  },
  "orig_nbformat": 4,
  "vscode": {
   "interpreter": {
    "hash": "916dbcbb3f70747c44a77c7bcd40155683ae19c65e1c03b4aa3499c5328201f1"
   }
  }
 },
 "nbformat": 4,
 "nbformat_minor": 2
}
